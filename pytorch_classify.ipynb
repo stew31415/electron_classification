{
 "cells": [
  {
   "cell_type": "code",
   "execution_count": 1,
   "metadata": {},
   "outputs": [],
   "source": [
    "import numpy as np\n",
    "import torch\n",
    "import torch.nn as nn\n",
    "import torchvision.datasets as dsets\n",
    "import torchvision.transforms as transforms\n",
    "from torch.autograd import Variable\n",
    "import os\n",
    "import torchsnooper\n",
    "import matplotlib.pyplot as plt\n",
    "from sklearn.metrics import roc_auc_score, roc_curve"
   ]
  },
  {
   "cell_type": "code",
   "execution_count": 2,
   "metadata": {},
   "outputs": [],
   "source": [
    "num_epochs = 5\n",
    "batch_size = 100\n",
    "learning_rate = 0.0001\n",
    "\n",
    "train_set  = torch.Tensor(np.load(\"/project/projectdirs/majorana/users/stew314/train_set.npy\"))\n",
    "train_labels = torch.Tensor(np.load(\"/project/projectdirs/majorana/users/stew314/train_labels.npy\"))\n",
    "train_dataset = torch.utils.data.TensorDataset(train_set,train_labels)\n",
    "train_loader  = torch.utils.data.DataLoader(dataset=train_dataset,\n",
    "                                           batch_size=batch_size,\n",
    "                                           shuffle=True)\n",
    "\n",
    "test_set = torch.Tensor(np.load(\"/project/projectdirs/majorana/users/stew314/test_set.npy\"))\n",
    "test_labels = torch.Tensor(np.load(\"/project/projectdirs/majorana/users/stew314/test_labels.npy\"))\n",
    "test_dataset = torch.utils.data.TensorDataset(test_set,test_labels)\n",
    "test_loader  = torch.utils.data.DataLoader(dataset=test_dataset,\n",
    "                                           batch_size=batch_size,\n",
    "                                           shuffle=False)"
   ]
  },
  {
   "cell_type": "code",
   "execution_count": 3,
   "metadata": {},
   "outputs": [],
   "source": [
    "# define class for CNN, define initializer and forward\n",
    "class CNN(nn.Module):\n",
    "    def __init__(self):\n",
    "        super(CNN, self).__init__()\n",
    "        \n",
    "        self.layer1 = nn.Sequential(\n",
    "            nn.Conv1d(1, 32, kernel_size=5, padding=2),\n",
    "            nn.BatchNorm1d(32),\n",
    "            nn.ReLU(),\n",
    "            nn.MaxPool1d(2))\n",
    "        self.layer2  = nn.Sequential(\n",
    "            nn.Conv1d(32, 32, kernel_size=5, padding=2),\n",
    "            nn.BatchNorm1d(32),\n",
    "            nn.ReLU(),\n",
    "            nn.MaxPool1d(2))\n",
    "        self.layer3  = nn.Sequential(\n",
    "            nn.Conv1d(32, 64, kernel_size=5, padding=2),\n",
    "            nn.BatchNorm1d(64),\n",
    "            nn.ReLU(),\n",
    "            nn.MaxPool1d(2))\n",
    "        self.layer4 = nn.Sequential(\n",
    "            nn.Conv1d(64, 512, kernel_size=5, padding=2),\n",
    "            nn.BatchNorm1d(512),\n",
    "            nn.ReLU(),\n",
    "            nn.MaxPool1d(2))\n",
    "        self.layer5 = nn.Sequential(\n",
    "            nn.Conv1d(512, 256, kernel_size=5, padding=2),\n",
    "            nn.BatchNorm1d(256),\n",
    "            nn.ReLU(),\n",
    "            nn.MaxPool1d(2))\n",
    "        self.fc1 = nn.Linear(16128, 128)\n",
    "        self.fc2 = nn.Linear(128,256)\n",
    "        self.fc3 = nn.Linear(256,64)\n",
    "        self.fc4 = nn.Linear(64,64)\n",
    "        self.fc5 = nn.Linear(64,1)\n",
    "    \n",
    "    #@torchsnooper.snoop()\n",
    "    # defines how an input tensor flows thru the network\n",
    "    def forward(self, x):\n",
    "        x = x.unsqueeze(1)\n",
    "        out = self.layer1(x)\n",
    "        out = self.layer2(out)\n",
    "        out = self.layer3(out)\n",
    "        out = self.layer4(out)\n",
    "        out = self.layer5(out)\n",
    "        out = out.view(out.size(0), -1)\n",
    "        out = self.fc1(out)\n",
    "        out = self.fc2(out)\n",
    "        out = self.fc3(out)\n",
    "        out = self.fc4(out)\n",
    "        out = self.fc5(out)\n",
    "        out = torch.sigmoid(out)\n",
    "        return out\n",
    "    \n",
    "cnn = CNN()"
   ]
  },
  {
   "cell_type": "code",
   "execution_count": null,
   "metadata": {},
   "outputs": [],
   "source": [
    "criterion = nn.BCELoss() # Loss\n",
    "optimizer = torch.optim.RMSprop(CNN.parameters(cnn),lr=learning_rate)\n",
    "\n",
    "for epoch in range(num_epochs):\n",
    "    for i, (images, labels) in enumerate(train_loader):\n",
    "        images = Variable(images)\n",
    "        labels = Variable(labels).view(-1,1)\n",
    "\n",
    "        optimizer.zero_grad()\n",
    "        outputs = cnn(images)\n",
    "        loss = criterion(outputs, labels)\n",
    "        loss.backward()\n",
    "        optimizer.step()\n",
    "\n",
    "        if (i+1) % 100 == 0:\n",
    "            print('Epoch [%d/%d], lter [%d/%d] Loss: %.4f'\n",
    "                 %(epoch+1, num_epochs, i+1, len(train_dataset)//batch_size, loss.data))"
   ]
  },
  {
   "cell_type": "code",
   "execution_count": null,
   "metadata": {},
   "outputs": [],
   "source": [
    "sigmoid_d = []\n",
    "sigmoid_db = []\n",
    "testY = []\n",
    "predY = []\n",
    "\n",
    "for images, labels in test_loader:\n",
    "    cnn.eval()\n",
    "    with torch.no_grad():\n",
    "        outputs  = cnn(images)\n",
    "        lb_data = labels.cpu().data.numpy().flatten()\n",
    "        output_data = outputs.cpu().data.numpy().flatten()\n",
    "        signal = np.argwhere(lb_data == 1.0)\n",
    "        bkg = np.argwhere(lb_data == 0.0)\n",
    "        sigmoid_d += list(output_data[signal].flatten())\n",
    "        sigmoid_db += list(output_data[bkg].flatten())\n",
    "        testY += list(lb_data)\n",
    "        predY += list(output_data)\n",
    "testY = np.array(testY)\n",
    "predY = np.array(predY)\n",
    "# pred_result = np.zeros(predY.shape)\n",
    "# pred_result[predY]\n",
    "auc = roc_auc_score(testY, predY)\n",
    "print(auc)\n",
    "fpr, tpr, thr = roc_curve(testY, predY)\n",
    "effindex = np.abs(tpr-0.75).argmin()\n",
    "effpurity = 1.-fpr[effindex]\n",
    "print(effpurity)\n",
    "plt.hist(sigmoid_d,histtype=\"step\")\n",
    "plt.hist(sigmoid_db,histtype=\"step\")\n",
    "plt.show()"
   ]
  },
  {
   "cell_type": "code",
   "execution_count": 10,
   "metadata": {},
   "outputs": [
    {
     "data": {
      "text/plain": [
       "[<matplotlib.lines.Line2D at 0x2aaaeb60be20>]"
      ]
     },
     "execution_count": 10,
     "metadata": {},
     "output_type": "execute_result"
    },
    {
     "data": {
      "image/png": "[encoded data removed]",
      "text/plain": [
       "<Figure size 432x288 with 1 Axes>"
      ]
     },
     "metadata": {
      "needs_background": "light"
     },
     "output_type": "display_data"
    }
   ],
   "source": [
    "plt.plot(fpr, tpr, label = 'AUC = ' + str(auc))"
   ]
  },
  {
   "cell_type": "code",
   "execution_count": null,
   "metadata": {},
   "outputs": [],
   "source": []
  }
 ],
 "metadata": {
  "kernelspec": {
   "display_name": "pytorch-1.7.1",
   "language": "python",
   "name": "pytorch-1.7.1"
  },
  "language_info": {
   "codemirror_mode": {
    "name": "ipython",
    "version": 3
   },
   "file_extension": ".py",
   "mimetype": "text/x-python",
   "name": "python",
   "nbconvert_exporter": "python",
   "pygments_lexer": "ipython3",
   "version": "3.8.5"
  }
 },
 "nbformat": 4,
 "nbformat_minor": 4
}
